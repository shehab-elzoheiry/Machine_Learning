{
 "cells": [
  {
   "cell_type": "markdown",
   "metadata": {},
   "source": [
    "# Model Determination for Customers' Responses.\n",
    "**This notebook is divided into III parts:**\n",
    "* Data Wrangling\n",
    "* Model Development & Evaluation\n",
    "* Model Application and Presentation\n"
   ]
  },
  {
   "cell_type": "markdown",
   "metadata": {},
   "source": [
    "## I- Data Wrangling"
   ]
  },
  {
   "cell_type": "markdown",
   "metadata": {},
   "source": [
    "Importing necessary libraries, followed by fetching the data from csv file into a dataframe."
   ]
  },
  {
   "cell_type": "code",
   "execution_count": 3,
   "metadata": {
    "collapsed": true
   },
   "outputs": [
    {
     "name": "stdout",
     "output_type": "stream",
     "text": [
      "WARNING: pip is being invoked by an old script wrapper. This will fail in a future version of pip.\n",
      "Please see https://github.com/pypa/pip/issues/5599 for advice on fixing the underlying issue.\n",
      "To avoid this problem you can invoke Python with '-m pip' instead of running pip directly.\n",
      "Requirement already satisfied: pip in /home/shehab/snap/jupyter/common/lib/python3.7/site-packages (22.0.3)\n",
      "WARNING: pip is being invoked by an old script wrapper. This will fail in a future version of pip.\n",
      "Please see https://github.com/pypa/pip/issues/5599 for advice on fixing the underlying issue.\n",
      "To avoid this problem you can invoke Python with '-m pip' instead of running pip directly.\n",
      "Requirement already satisfied: jupyter in /home/shehab/snap/jupyter/common/lib/python3.7/site-packages (1.0.0)\n",
      "Requirement already satisfied: notebook in /snap/jupyter/6/lib/python3.7/site-packages (from jupyter) (5.7.8)\n",
      "Requirement already satisfied: nbconvert in /snap/jupyter/6/lib/python3.7/site-packages (from jupyter) (5.5.0)\n",
      "Requirement already satisfied: jupyter-console in /snap/jupyter/6/lib/python3.7/site-packages (from jupyter) (6.0.0)\n",
      "Requirement already satisfied: qtconsole in /home/shehab/snap/jupyter/common/lib/python3.7/site-packages (from jupyter) (5.2.2)\n",
      "Requirement already satisfied: ipywidgets in /snap/jupyter/6/lib/python3.7/site-packages (from jupyter) (7.4.2)\n",
      "Requirement already satisfied: ipykernel in /snap/jupyter/6/lib/python3.7/site-packages (from jupyter) (5.1.1)\n",
      "Requirement already satisfied: traitlets>=4.1.0 in /snap/jupyter/6/lib/python3.7/site-packages (from ipykernel->jupyter) (4.3.2)\n",
      "Requirement already satisfied: ipython>=5.0.0 in /snap/jupyter/6/lib/python3.7/site-packages (from ipykernel->jupyter) (7.5.0)\n",
      "Requirement already satisfied: tornado>=4.2 in /snap/jupyter/6/lib/python3.7/site-packages (from ipykernel->jupyter) (6.0.2)\n",
      "Requirement already satisfied: jupyter-client in /snap/jupyter/6/lib/python3.7/site-packages (from ipykernel->jupyter) (5.2.4)\n",
      "Requirement already satisfied: nbformat>=4.2.0 in /snap/jupyter/6/lib/python3.7/site-packages (from ipywidgets->jupyter) (4.4.0)\n",
      "Requirement already satisfied: widgetsnbextension~=3.4.0 in /snap/jupyter/6/lib/python3.7/site-packages (from ipywidgets->jupyter) (3.4.2)\n",
      "Requirement already satisfied: prompt_toolkit<2.1.0,>=2.0.0 in /snap/jupyter/6/lib/python3.7/site-packages (from jupyter-console->jupyter) (2.0.9)\n",
      "Requirement already satisfied: pygments in /snap/jupyter/6/lib/python3.7/site-packages (from jupyter-console->jupyter) (2.4.2)\n",
      "Requirement already satisfied: mistune>=0.8.1 in /snap/jupyter/6/lib/python3.7/site-packages (from nbconvert->jupyter) (0.8.4)\n",
      "Requirement already satisfied: bleach in /snap/jupyter/6/lib/python3.7/site-packages (from nbconvert->jupyter) (3.1.0)\n",
      "Requirement already satisfied: jinja2>=2.4 in /snap/jupyter/6/lib/python3.7/site-packages (from nbconvert->jupyter) (2.10.1)\n",
      "Requirement already satisfied: jupyter-core in /snap/jupyter/6/lib/python3.7/site-packages (from nbconvert->jupyter) (4.4.0)\n",
      "Requirement already satisfied: defusedxml in /snap/jupyter/6/lib/python3.7/site-packages (from nbconvert->jupyter) (0.5.0)\n",
      "Requirement already satisfied: pandocfilters>=1.4.1 in /snap/jupyter/6/lib/python3.7/site-packages (from nbconvert->jupyter) (1.4.2)\n",
      "Requirement already satisfied: testpath in /snap/jupyter/6/lib/python3.7/site-packages (from nbconvert->jupyter) (0.4.2)\n",
      "Requirement already satisfied: entrypoints>=0.2.2 in /snap/jupyter/6/lib/python3.7/site-packages (from nbconvert->jupyter) (0.3)\n",
      "Requirement already satisfied: terminado>=0.8.1 in /snap/jupyter/6/lib/python3.7/site-packages (from notebook->jupyter) (0.8.2)\n",
      "Requirement already satisfied: ipython-genutils in /snap/jupyter/6/lib/python3.7/site-packages (from notebook->jupyter) (0.2.0)\n",
      "Requirement already satisfied: prometheus-client in /snap/jupyter/6/lib/python3.7/site-packages (from notebook->jupyter) (0.7.0)\n",
      "Requirement already satisfied: Send2Trash in /snap/jupyter/6/lib/python3.7/site-packages (from notebook->jupyter) (1.5.0)\n",
      "Requirement already satisfied: pyzmq>=17 in /snap/jupyter/6/lib/python3.7/site-packages (from notebook->jupyter) (18.0.1)\n",
      "Requirement already satisfied: qtpy in /home/shehab/snap/jupyter/common/lib/python3.7/site-packages (from qtconsole->jupyter) (2.0.1)\n",
      "Requirement already satisfied: backcall in /snap/jupyter/6/lib/python3.7/site-packages (from ipython>=5.0.0->ipykernel->jupyter) (0.1.0)\n",
      "Requirement already satisfied: pexpect in /snap/jupyter/6/lib/python3.7/site-packages (from ipython>=5.0.0->ipykernel->jupyter) (4.7.0)\n",
      "Requirement already satisfied: jedi>=0.10 in /snap/jupyter/6/lib/python3.7/site-packages (from ipython>=5.0.0->ipykernel->jupyter) (0.13.3)\n",
      "Requirement already satisfied: setuptools>=18.5 in /snap/jupyter/6/lib/python3.7/site-packages (from ipython>=5.0.0->ipykernel->jupyter) (41.0.1)\n",
      "Requirement already satisfied: pickleshare in /snap/jupyter/6/lib/python3.7/site-packages (from ipython>=5.0.0->ipykernel->jupyter) (0.7.5)\n",
      "Requirement already satisfied: decorator in /snap/jupyter/6/lib/python3.7/site-packages (from ipython>=5.0.0->ipykernel->jupyter) (4.4.0)\n",
      "Requirement already satisfied: MarkupSafe>=0.23 in /snap/jupyter/6/lib/python3.7/site-packages (from jinja2>=2.4->nbconvert->jupyter) (1.1.1)\n",
      "Requirement already satisfied: python-dateutil>=2.1 in /snap/jupyter/6/lib/python3.7/site-packages (from jupyter-client->ipykernel->jupyter) (2.8.0)\n",
      "Requirement already satisfied: jsonschema!=2.5.0,>=2.4 in /snap/jupyter/6/lib/python3.7/site-packages (from nbformat>=4.2.0->ipywidgets->jupyter) (3.0.1)\n",
      "Requirement already satisfied: six>=1.9.0 in /snap/jupyter/6/lib/python3.7/site-packages (from prompt_toolkit<2.1.0,>=2.0.0->jupyter-console->jupyter) (1.12.0)\n",
      "Requirement already satisfied: wcwidth in /snap/jupyter/6/lib/python3.7/site-packages (from prompt_toolkit<2.1.0,>=2.0.0->jupyter-console->jupyter) (0.1.7)\n",
      "Requirement already satisfied: webencodings in /snap/jupyter/6/lib/python3.7/site-packages (from bleach->nbconvert->jupyter) (0.5.1)\n",
      "Requirement already satisfied: packaging in /home/shehab/snap/jupyter/common/lib/python3.7/site-packages (from qtpy->qtconsole->jupyter) (21.3)\n",
      "Requirement already satisfied: parso>=0.3.0 in /snap/jupyter/6/lib/python3.7/site-packages (from jedi>=0.10->ipython>=5.0.0->ipykernel->jupyter) (0.4.0)\n",
      "Requirement already satisfied: attrs>=17.4.0 in /snap/jupyter/6/lib/python3.7/site-packages (from jsonschema!=2.5.0,>=2.4->nbformat>=4.2.0->ipywidgets->jupyter) (19.1.0)\n",
      "Requirement already satisfied: pyrsistent>=0.14.0 in /snap/jupyter/6/lib/python3.7/site-packages (from jsonschema!=2.5.0,>=2.4->nbformat>=4.2.0->ipywidgets->jupyter) (0.15.2)\n",
      "Requirement already satisfied: pyparsing!=3.0.5,>=2.0.2 in /home/shehab/snap/jupyter/common/lib/python3.7/site-packages (from packaging->qtpy->qtconsole->jupyter) (3.0.7)\n",
      "Requirement already satisfied: ptyprocess>=0.5 in /snap/jupyter/6/lib/python3.7/site-packages (from pexpect->ipython>=5.0.0->ipykernel->jupyter) (0.6.0)\n",
      "WARNING: pip is being invoked by an old script wrapper. This will fail in a future version of pip.\n",
      "Please see https://github.com/pypa/pip/issues/5599 for advice on fixing the underlying issue.\n",
      "To avoid this problem you can invoke Python with '-m pip' instead of running pip directly.\n",
      "Requirement already satisfied: pandas in /home/shehab/snap/jupyter/common/lib/python3.7/site-packages (1.3.5)\n",
      "Requirement already satisfied: python-dateutil>=2.7.3 in /snap/jupyter/6/lib/python3.7/site-packages (from pandas) (2.8.0)\n",
      "Requirement already satisfied: pytz>=2017.3 in /home/shehab/snap/jupyter/common/lib/python3.7/site-packages (from pandas) (2021.3)\n",
      "Requirement already satisfied: numpy>=1.17.3 in /home/shehab/snap/jupyter/common/lib/python3.7/site-packages (from pandas) (1.21.5)\n",
      "Requirement already satisfied: six>=1.5 in /snap/jupyter/6/lib/python3.7/site-packages (from python-dateutil>=2.7.3->pandas) (1.12.0)\n",
      "WARNING: pip is being invoked by an old script wrapper. This will fail in a future version of pip.\n",
      "Please see https://github.com/pypa/pip/issues/5599 for advice on fixing the underlying issue.\n",
      "To avoid this problem you can invoke Python with '-m pip' instead of running pip directly.\n",
      "Requirement already satisfied: matplotlib in /home/shehab/snap/jupyter/common/lib/python3.7/site-packages (3.5.1)\n",
      "Requirement already satisfied: pillow>=6.2.0 in /home/shehab/snap/jupyter/common/lib/python3.7/site-packages (from matplotlib) (9.0.1)\n",
      "Requirement already satisfied: fonttools>=4.22.0 in /home/shehab/snap/jupyter/common/lib/python3.7/site-packages (from matplotlib) (4.29.1)\n",
      "Requirement already satisfied: kiwisolver>=1.0.1 in /home/shehab/snap/jupyter/common/lib/python3.7/site-packages (from matplotlib) (1.3.2)\n",
      "Requirement already satisfied: pyparsing>=2.2.1 in /home/shehab/snap/jupyter/common/lib/python3.7/site-packages (from matplotlib) (3.0.7)\n",
      "Requirement already satisfied: python-dateutil>=2.7 in /snap/jupyter/6/lib/python3.7/site-packages (from matplotlib) (2.8.0)\n",
      "Requirement already satisfied: packaging>=20.0 in /home/shehab/snap/jupyter/common/lib/python3.7/site-packages (from matplotlib) (21.3)\n",
      "Requirement already satisfied: numpy>=1.17 in /home/shehab/snap/jupyter/common/lib/python3.7/site-packages (from matplotlib) (1.21.5)\n",
      "Requirement already satisfied: cycler>=0.10 in /home/shehab/snap/jupyter/common/lib/python3.7/site-packages (from matplotlib) (0.11.0)\n"
     ]
    },
    {
     "name": "stdout",
     "output_type": "stream",
     "text": [
      "Requirement already satisfied: six>=1.5 in /snap/jupyter/6/lib/python3.7/site-packages (from python-dateutil>=2.7->matplotlib) (1.12.0)\n",
      "WARNING: pip is being invoked by an old script wrapper. This will fail in a future version of pip.\n",
      "Please see https://github.com/pypa/pip/issues/5599 for advice on fixing the underlying issue.\n",
      "To avoid this problem you can invoke Python with '-m pip' instead of running pip directly.\n",
      "Requirement already satisfied: seaborn in /home/shehab/snap/jupyter/common/lib/python3.7/site-packages (0.11.2)\n",
      "Requirement already satisfied: pandas>=0.23 in /home/shehab/snap/jupyter/common/lib/python3.7/site-packages (from seaborn) (1.3.5)\n",
      "Requirement already satisfied: scipy>=1.0 in /home/shehab/snap/jupyter/common/lib/python3.7/site-packages (from seaborn) (1.7.3)\n",
      "Requirement already satisfied: numpy>=1.15 in /home/shehab/snap/jupyter/common/lib/python3.7/site-packages (from seaborn) (1.21.5)\n",
      "Requirement already satisfied: matplotlib>=2.2 in /home/shehab/snap/jupyter/common/lib/python3.7/site-packages (from seaborn) (3.5.1)\n",
      "Requirement already satisfied: pyparsing>=2.2.1 in /home/shehab/snap/jupyter/common/lib/python3.7/site-packages (from matplotlib>=2.2->seaborn) (3.0.7)\n",
      "Requirement already satisfied: packaging>=20.0 in /home/shehab/snap/jupyter/common/lib/python3.7/site-packages (from matplotlib>=2.2->seaborn) (21.3)\n",
      "Requirement already satisfied: fonttools>=4.22.0 in /home/shehab/snap/jupyter/common/lib/python3.7/site-packages (from matplotlib>=2.2->seaborn) (4.29.1)\n",
      "Requirement already satisfied: kiwisolver>=1.0.1 in /home/shehab/snap/jupyter/common/lib/python3.7/site-packages (from matplotlib>=2.2->seaborn) (1.3.2)\n",
      "Requirement already satisfied: cycler>=0.10 in /home/shehab/snap/jupyter/common/lib/python3.7/site-packages (from matplotlib>=2.2->seaborn) (0.11.0)\n",
      "Requirement already satisfied: python-dateutil>=2.7 in /snap/jupyter/6/lib/python3.7/site-packages (from matplotlib>=2.2->seaborn) (2.8.0)\n",
      "Requirement already satisfied: pillow>=6.2.0 in /home/shehab/snap/jupyter/common/lib/python3.7/site-packages (from matplotlib>=2.2->seaborn) (9.0.1)\n",
      "Requirement already satisfied: pytz>=2017.3 in /home/shehab/snap/jupyter/common/lib/python3.7/site-packages (from pandas>=0.23->seaborn) (2021.3)\n",
      "Requirement already satisfied: six>=1.5 in /snap/jupyter/6/lib/python3.7/site-packages (from python-dateutil>=2.7->matplotlib>=2.2->seaborn) (1.12.0)\n"
     ]
    }
   ],
   "source": [
    "!pip install --upgrade pip\n",
    "!pip install jupyter\n",
    "!pip install pandas\n",
    "!pip install matplotlib\n",
    "!pip install seaborn"
   ]
  },
  {
   "cell_type": "code",
   "execution_count": 4,
   "metadata": {},
   "outputs": [
    {
     "name": "stderr",
     "output_type": "stream",
     "text": [
      "/home/shehab/snap/jupyter/common/lib/python3.7/site-packages/joblib/_multiprocessing_helpers.py:45: UserWarning: [Errno 13] Permission denied.  joblib will operate in serial mode\n",
      "  warnings.warn('%s.  joblib will operate in serial mode' % (e,))\n"
     ]
    }
   ],
   "source": [
    "import numpy as np\n",
    "import matplotlib.pyplot as plt\n",
    "import pandas as pd\n",
    "import seaborn as sns\n",
    "from sklearn import preprocessing\n",
    "from sklearn.model_selection import train_test_split\n",
    "from sklearn.neighbors import KNeighborsClassifier\n",
    "from sklearn.linear_model import LogisticRegression\n",
    "from sklearn.tree import DecisionTreeClassifier\n",
    "from sklearn import svm\n",
    "from sklearn.ensemble import RandomForestRegressor\n",
    "from sklearn.pipeline import Pipeline\n",
    "from sklearn.metrics import classification_report, confusion_matrix\n",
    "import itertools\n",
    "from sklearn.model_selection import cross_val_score\n",
    "from sklearn import metrics"
   ]
  },
  {
   "cell_type": "code",
   "execution_count": 5,
   "metadata": {},
   "outputs": [
    {
     "name": "stdout",
     "output_type": "stream",
     "text": [
      "       name   age lifestyle  zip code family status        car     sports  \\\n",
      "0  VnSEFOuL  62.0    cozily   50168.0       married  practical  athletics   \n",
      "1  8Tv0hcce  34.0    active   66479.0       married  expensive     soccer   \n",
      "2  Zny9ysbk  69.0   healthy   16592.0        single  expensive  badminton   \n",
      "3  HV3xCamM  57.0    cozily   50068.0       married  practical     soccer   \n",
      "4  sflRsQ6v  66.0    cozily   35988.0        single  practical  badminton   \n",
      "\n",
      "   earnings living area        label  \n",
      "0  102526.0       urban  no response  \n",
      "1   33006.0       urban  no response  \n",
      "2  118760.0       urban     response  \n",
      "3  131429.0       urban     response  \n",
      "4   96003.0       urban     response  \n"
     ]
    }
   ],
   "source": [
    "df = pd.read_csv('/home/shehab/Downloads/Recruiting_Task_InputData.csv')\n",
    "print(df.head())"
   ]
  },
  {
   "cell_type": "markdown",
   "metadata": {},
   "source": [
    "* Checking data types and if any columns include empty fields."
   ]
  },
  {
   "cell_type": "code",
   "execution_count": 6,
   "metadata": {
    "scrolled": true
   },
   "outputs": [
    {
     "name": "stdout",
     "output_type": "stream",
     "text": [
      "nulls are \n",
      " name                0\n",
      "age                 0\n",
      "lifestyle           0\n",
      "zip code            0\n",
      "family status       0\n",
      "car                 0\n",
      "sports           1500\n",
      "earnings            0\n",
      "living area         0\n",
      "label               0\n",
      "dtype: int64\n",
      "count is \n",
      " name             10000\n",
      "age              10000\n",
      "lifestyle        10000\n",
      "zip code         10000\n",
      "family status    10000\n",
      "car              10000\n",
      "sports            8500\n",
      "earnings         10000\n",
      "living area      10000\n",
      "label            10000\n",
      "dtype: int64\n",
      "types are \n",
      " name              object\n",
      "age              float64\n",
      "lifestyle         object\n",
      "zip code         float64\n",
      "family status     object\n",
      "car               object\n",
      "sports            object\n",
      "earnings         float64\n",
      "living area       object\n",
      "label             object\n",
      "dtype: object\n"
     ]
    }
   ],
   "source": [
    "print('nulls are \\n' , df.isnull().sum())\n",
    "print('count is \\n' , df.count())\n",
    "print(\"types are \\n\" , df.dtypes)"
   ]
  },
  {
   "cell_type": "markdown",
   "metadata": {},
   "source": [
    "**Few notes:**\n",
    " 1. All 10000 rows from csv are fetched\n",
    " 2. The column 'sports' include missing data for 1500 customers\n",
    " 3. Following is a detailed check of 'sports' column to know best way of filling missing values."
   ]
  },
  {
   "cell_type": "code",
   "execution_count": 4,
   "metadata": {},
   "outputs": [
    {
     "name": "stdout",
     "output_type": "stream",
     "text": [
      "athletics    2853\n",
      "badminton    2828\n",
      "soccer       2819\n",
      "Name: sports, dtype: int64\n"
     ]
    }
   ],
   "source": [
    "print(df.sports.value_counts())"
   ]
  },
  {
   "cell_type": "code",
   "execution_count": 7,
   "metadata": {},
   "outputs": [
    {
     "data": {
      "text/html": [
       "<div>\n",
       "<style scoped>\n",
       "    .dataframe tbody tr th:only-of-type {\n",
       "        vertical-align: middle;\n",
       "    }\n",
       "\n",
       "    .dataframe tbody tr th {\n",
       "        vertical-align: top;\n",
       "    }\n",
       "\n",
       "    .dataframe thead tr th {\n",
       "        text-align: left;\n",
       "    }\n",
       "\n",
       "    .dataframe thead tr:last-of-type th {\n",
       "        text-align: right;\n",
       "    }\n",
       "</style>\n",
       "<table border=\"1\" class=\"dataframe\">\n",
       "  <thead>\n",
       "    <tr>\n",
       "      <th></th>\n",
       "      <th colspan=\"2\" halign=\"left\">no response</th>\n",
       "      <th colspan=\"2\" halign=\"left\">response</th>\n",
       "    </tr>\n",
       "    <tr>\n",
       "      <th>label</th>\n",
       "      <th>no response</th>\n",
       "      <th>response</th>\n",
       "      <th>no response</th>\n",
       "      <th>response</th>\n",
       "    </tr>\n",
       "    <tr>\n",
       "      <th>sports</th>\n",
       "      <th></th>\n",
       "      <th></th>\n",
       "      <th></th>\n",
       "      <th></th>\n",
       "    </tr>\n",
       "  </thead>\n",
       "  <tbody>\n",
       "    <tr>\n",
       "      <th>athletics</th>\n",
       "      <td>1906.0</td>\n",
       "      <td>0.0</td>\n",
       "      <td>0.0</td>\n",
       "      <td>947.0</td>\n",
       "    </tr>\n",
       "    <tr>\n",
       "      <th>badminton</th>\n",
       "      <td>1891.0</td>\n",
       "      <td>0.0</td>\n",
       "      <td>0.0</td>\n",
       "      <td>937.0</td>\n",
       "    </tr>\n",
       "    <tr>\n",
       "      <th>soccer</th>\n",
       "      <td>1897.0</td>\n",
       "      <td>0.0</td>\n",
       "      <td>0.0</td>\n",
       "      <td>922.0</td>\n",
       "    </tr>\n",
       "  </tbody>\n",
       "</table>\n",
       "</div>"
      ],
      "text/plain": [
       "          no response             response         \n",
       "label     no response response no response response\n",
       "sports                                             \n",
       "athletics      1906.0      0.0         0.0    947.0\n",
       "badminton      1891.0      0.0         0.0    937.0\n",
       "soccer         1897.0      0.0         0.0    922.0"
      ]
     },
     "execution_count": 7,
     "metadata": {},
     "output_type": "execute_result"
    }
   ],
   "source": [
    "dummies_label = pd.get_dummies(df.label)\n",
    "test_quick = pd.concat([df.sports, df.label, dummies_label ], axis = 1)\n",
    "tested = test_quick.pivot_table(index='sports', columns='label',aggfunc='sum')\n",
    "tested"
   ]
  },
  {
   "cell_type": "markdown",
   "metadata": {},
   "source": [
    "* The three different sports are almost equally spread through customers, with no significant difference. Therefore, missing values will be left as 0s when the columns are transfered to dummies for further steps of classification."
   ]
  },
  {
   "cell_type": "code",
   "execution_count": 8,
   "metadata": {},
   "outputs": [
    {
     "data": {
      "text/html": [
       "<div>\n",
       "<style scoped>\n",
       "    .dataframe tbody tr th:only-of-type {\n",
       "        vertical-align: middle;\n",
       "    }\n",
       "\n",
       "    .dataframe tbody tr th {\n",
       "        vertical-align: top;\n",
       "    }\n",
       "\n",
       "    .dataframe thead th {\n",
       "        text-align: right;\n",
       "    }\n",
       "</style>\n",
       "<table border=\"1\" class=\"dataframe\">\n",
       "  <thead>\n",
       "    <tr style=\"text-align: right;\">\n",
       "      <th></th>\n",
       "      <th>name</th>\n",
       "      <th>age</th>\n",
       "      <th>lifestyle</th>\n",
       "      <th>zip code</th>\n",
       "      <th>family status</th>\n",
       "      <th>car</th>\n",
       "      <th>sports</th>\n",
       "      <th>earnings</th>\n",
       "      <th>living area</th>\n",
       "      <th>label</th>\n",
       "    </tr>\n",
       "  </thead>\n",
       "  <tbody>\n",
       "    <tr>\n",
       "      <th>count</th>\n",
       "      <td>10000</td>\n",
       "      <td>10000.000000</td>\n",
       "      <td>10000</td>\n",
       "      <td>10000.000000</td>\n",
       "      <td>10000</td>\n",
       "      <td>10000</td>\n",
       "      <td>8500</td>\n",
       "      <td>10000.000000</td>\n",
       "      <td>10000</td>\n",
       "      <td>10000</td>\n",
       "    </tr>\n",
       "    <tr>\n",
       "      <th>unique</th>\n",
       "      <td>10000</td>\n",
       "      <td>NaN</td>\n",
       "      <td>3</td>\n",
       "      <td>NaN</td>\n",
       "      <td>2</td>\n",
       "      <td>2</td>\n",
       "      <td>3</td>\n",
       "      <td>NaN</td>\n",
       "      <td>2</td>\n",
       "      <td>2</td>\n",
       "    </tr>\n",
       "    <tr>\n",
       "      <th>top</th>\n",
       "      <td>VnSEFOuL</td>\n",
       "      <td>NaN</td>\n",
       "      <td>active</td>\n",
       "      <td>NaN</td>\n",
       "      <td>married</td>\n",
       "      <td>practical</td>\n",
       "      <td>athletics</td>\n",
       "      <td>NaN</td>\n",
       "      <td>urban</td>\n",
       "      <td>no response</td>\n",
       "    </tr>\n",
       "    <tr>\n",
       "      <th>freq</th>\n",
       "      <td>1</td>\n",
       "      <td>NaN</td>\n",
       "      <td>3375</td>\n",
       "      <td>NaN</td>\n",
       "      <td>5032</td>\n",
       "      <td>5051</td>\n",
       "      <td>2853</td>\n",
       "      <td>NaN</td>\n",
       "      <td>6300</td>\n",
       "      <td>6640</td>\n",
       "    </tr>\n",
       "    <tr>\n",
       "      <th>mean</th>\n",
       "      <td>NaN</td>\n",
       "      <td>42.090700</td>\n",
       "      <td>NaN</td>\n",
       "      <td>55227.270600</td>\n",
       "      <td>NaN</td>\n",
       "      <td>NaN</td>\n",
       "      <td>NaN</td>\n",
       "      <td>85337.799600</td>\n",
       "      <td>NaN</td>\n",
       "      <td>NaN</td>\n",
       "    </tr>\n",
       "    <tr>\n",
       "      <th>std</th>\n",
       "      <td>NaN</td>\n",
       "      <td>15.874416</td>\n",
       "      <td>NaN</td>\n",
       "      <td>26139.756227</td>\n",
       "      <td>NaN</td>\n",
       "      <td>NaN</td>\n",
       "      <td>NaN</td>\n",
       "      <td>37554.523323</td>\n",
       "      <td>NaN</td>\n",
       "      <td>NaN</td>\n",
       "    </tr>\n",
       "    <tr>\n",
       "      <th>min</th>\n",
       "      <td>NaN</td>\n",
       "      <td>15.000000</td>\n",
       "      <td>NaN</td>\n",
       "      <td>10003.000000</td>\n",
       "      <td>NaN</td>\n",
       "      <td>NaN</td>\n",
       "      <td>NaN</td>\n",
       "      <td>20006.000000</td>\n",
       "      <td>NaN</td>\n",
       "      <td>NaN</td>\n",
       "    </tr>\n",
       "    <tr>\n",
       "      <th>25%</th>\n",
       "      <td>NaN</td>\n",
       "      <td>28.000000</td>\n",
       "      <td>NaN</td>\n",
       "      <td>32708.250000</td>\n",
       "      <td>NaN</td>\n",
       "      <td>NaN</td>\n",
       "      <td>NaN</td>\n",
       "      <td>53237.250000</td>\n",
       "      <td>NaN</td>\n",
       "      <td>NaN</td>\n",
       "    </tr>\n",
       "    <tr>\n",
       "      <th>50%</th>\n",
       "      <td>NaN</td>\n",
       "      <td>42.000000</td>\n",
       "      <td>NaN</td>\n",
       "      <td>55290.000000</td>\n",
       "      <td>NaN</td>\n",
       "      <td>NaN</td>\n",
       "      <td>NaN</td>\n",
       "      <td>85617.500000</td>\n",
       "      <td>NaN</td>\n",
       "      <td>NaN</td>\n",
       "    </tr>\n",
       "    <tr>\n",
       "      <th>75%</th>\n",
       "      <td>NaN</td>\n",
       "      <td>56.000000</td>\n",
       "      <td>NaN</td>\n",
       "      <td>77967.750000</td>\n",
       "      <td>NaN</td>\n",
       "      <td>NaN</td>\n",
       "      <td>NaN</td>\n",
       "      <td>118111.000000</td>\n",
       "      <td>NaN</td>\n",
       "      <td>NaN</td>\n",
       "    </tr>\n",
       "    <tr>\n",
       "      <th>max</th>\n",
       "      <td>NaN</td>\n",
       "      <td>69.000000</td>\n",
       "      <td>NaN</td>\n",
       "      <td>99982.000000</td>\n",
       "      <td>NaN</td>\n",
       "      <td>NaN</td>\n",
       "      <td>NaN</td>\n",
       "      <td>149975.000000</td>\n",
       "      <td>NaN</td>\n",
       "      <td>NaN</td>\n",
       "    </tr>\n",
       "  </tbody>\n",
       "</table>\n",
       "</div>"
      ],
      "text/plain": [
       "            name           age lifestyle      zip code family status  \\\n",
       "count      10000  10000.000000     10000  10000.000000         10000   \n",
       "unique     10000           NaN         3           NaN             2   \n",
       "top     VnSEFOuL           NaN    active           NaN       married   \n",
       "freq           1           NaN      3375           NaN          5032   \n",
       "mean         NaN     42.090700       NaN  55227.270600           NaN   \n",
       "std          NaN     15.874416       NaN  26139.756227           NaN   \n",
       "min          NaN     15.000000       NaN  10003.000000           NaN   \n",
       "25%          NaN     28.000000       NaN  32708.250000           NaN   \n",
       "50%          NaN     42.000000       NaN  55290.000000           NaN   \n",
       "75%          NaN     56.000000       NaN  77967.750000           NaN   \n",
       "max          NaN     69.000000       NaN  99982.000000           NaN   \n",
       "\n",
       "              car     sports       earnings living area        label  \n",
       "count       10000       8500   10000.000000       10000        10000  \n",
       "unique          2          3            NaN           2            2  \n",
       "top     practical  athletics            NaN       urban  no response  \n",
       "freq         5051       2853            NaN        6300         6640  \n",
       "mean          NaN        NaN   85337.799600         NaN          NaN  \n",
       "std           NaN        NaN   37554.523323         NaN          NaN  \n",
       "min           NaN        NaN   20006.000000         NaN          NaN  \n",
       "25%           NaN        NaN   53237.250000         NaN          NaN  \n",
       "50%           NaN        NaN   85617.500000         NaN          NaN  \n",
       "75%           NaN        NaN  118111.000000         NaN          NaN  \n",
       "max           NaN        NaN  149975.000000         NaN          NaN  "
      ]
     },
     "execution_count": 8,
     "metadata": {},
     "output_type": "execute_result"
    }
   ],
   "source": [
    "df.describe(include = 'all')"
   ]
  },
  {
   "cell_type": "code",
   "execution_count": 14,
   "metadata": {},
   "outputs": [
    {
     "data": {
      "text/plain": [
       "count     10001.0\n",
       "unique     9451.0\n",
       "top       68953.0\n",
       "freq          3.0\n",
       "Name: zip code, dtype: float64"
      ]
     },
     "execution_count": 14,
     "metadata": {},
     "output_type": "execute_result"
    }
   ],
   "source": [
    "zip_[\"zip code\"] = df[\"zip code\"]\n",
    "zip_.describe(include='all')"
   ]
  },
  {
   "cell_type": "markdown",
   "metadata": {},
   "source": [
    "**Further notes:**\n",
    " 1. Age and earnings show reasonable numbers; no negative values and no strange ages.\n",
    " 2. Names will be excluded from features list, specially that no names are repeated, which proves, it doesn't play role in customers' behavior.\n",
    " 3. Zip codes may play role, customers in certain areas are more interested than others, BUT this is not the case since the most repeated zip code had frequency of only 3 out of 10000 observation.\n",
    " \n",
    "Following is, exclusion of names and zip codes, as well as transfering all categorical data to dummies. Finally, the 'label' column will be the target which is further noted as 'y' downstream the notebook (slight changes may occur)."
   ]
  },
  {
   "cell_type": "code",
   "execution_count": 10,
   "metadata": {},
   "outputs": [
    {
     "data": {
      "text/html": [
       "<div>\n",
       "<style scoped>\n",
       "    .dataframe tbody tr th:only-of-type {\n",
       "        vertical-align: middle;\n",
       "    }\n",
       "\n",
       "    .dataframe tbody tr th {\n",
       "        vertical-align: top;\n",
       "    }\n",
       "\n",
       "    .dataframe thead th {\n",
       "        text-align: right;\n",
       "    }\n",
       "</style>\n",
       "<table border=\"1\" class=\"dataframe\">\n",
       "  <thead>\n",
       "    <tr style=\"text-align: right;\">\n",
       "      <th></th>\n",
       "      <th>age</th>\n",
       "      <th>earnings</th>\n",
       "      <th>active</th>\n",
       "      <th>cozily</th>\n",
       "      <th>healthy</th>\n",
       "      <th>married</th>\n",
       "      <th>single</th>\n",
       "      <th>expensive</th>\n",
       "      <th>practical</th>\n",
       "      <th>athletics</th>\n",
       "      <th>badminton</th>\n",
       "      <th>soccer</th>\n",
       "      <th>rural</th>\n",
       "      <th>urban</th>\n",
       "      <th>label</th>\n",
       "    </tr>\n",
       "  </thead>\n",
       "  <tbody>\n",
       "    <tr>\n",
       "      <th>0</th>\n",
       "      <td>62.0</td>\n",
       "      <td>102526.0</td>\n",
       "      <td>0</td>\n",
       "      <td>1</td>\n",
       "      <td>0</td>\n",
       "      <td>1</td>\n",
       "      <td>0</td>\n",
       "      <td>0</td>\n",
       "      <td>1</td>\n",
       "      <td>1</td>\n",
       "      <td>0</td>\n",
       "      <td>0</td>\n",
       "      <td>0</td>\n",
       "      <td>1</td>\n",
       "      <td>0</td>\n",
       "    </tr>\n",
       "    <tr>\n",
       "      <th>1</th>\n",
       "      <td>34.0</td>\n",
       "      <td>33006.0</td>\n",
       "      <td>1</td>\n",
       "      <td>0</td>\n",
       "      <td>0</td>\n",
       "      <td>1</td>\n",
       "      <td>0</td>\n",
       "      <td>1</td>\n",
       "      <td>0</td>\n",
       "      <td>0</td>\n",
       "      <td>0</td>\n",
       "      <td>1</td>\n",
       "      <td>0</td>\n",
       "      <td>1</td>\n",
       "      <td>0</td>\n",
       "    </tr>\n",
       "    <tr>\n",
       "      <th>2</th>\n",
       "      <td>69.0</td>\n",
       "      <td>118760.0</td>\n",
       "      <td>0</td>\n",
       "      <td>0</td>\n",
       "      <td>1</td>\n",
       "      <td>0</td>\n",
       "      <td>1</td>\n",
       "      <td>1</td>\n",
       "      <td>0</td>\n",
       "      <td>0</td>\n",
       "      <td>1</td>\n",
       "      <td>0</td>\n",
       "      <td>0</td>\n",
       "      <td>1</td>\n",
       "      <td>1</td>\n",
       "    </tr>\n",
       "    <tr>\n",
       "      <th>3</th>\n",
       "      <td>57.0</td>\n",
       "      <td>131429.0</td>\n",
       "      <td>0</td>\n",
       "      <td>1</td>\n",
       "      <td>0</td>\n",
       "      <td>1</td>\n",
       "      <td>0</td>\n",
       "      <td>0</td>\n",
       "      <td>1</td>\n",
       "      <td>0</td>\n",
       "      <td>0</td>\n",
       "      <td>1</td>\n",
       "      <td>0</td>\n",
       "      <td>1</td>\n",
       "      <td>1</td>\n",
       "    </tr>\n",
       "    <tr>\n",
       "      <th>4</th>\n",
       "      <td>66.0</td>\n",
       "      <td>96003.0</td>\n",
       "      <td>0</td>\n",
       "      <td>1</td>\n",
       "      <td>0</td>\n",
       "      <td>0</td>\n",
       "      <td>1</td>\n",
       "      <td>0</td>\n",
       "      <td>1</td>\n",
       "      <td>0</td>\n",
       "      <td>1</td>\n",
       "      <td>0</td>\n",
       "      <td>0</td>\n",
       "      <td>1</td>\n",
       "      <td>1</td>\n",
       "    </tr>\n",
       "  </tbody>\n",
       "</table>\n",
       "</div>"
      ],
      "text/plain": [
       "    age  earnings  active  cozily  healthy  married  single  expensive  \\\n",
       "0  62.0  102526.0       0       1        0        1       0          0   \n",
       "1  34.0   33006.0       1       0        0        1       0          1   \n",
       "2  69.0  118760.0       0       0        1        0       1          1   \n",
       "3  57.0  131429.0       0       1        0        1       0          0   \n",
       "4  66.0   96003.0       0       1        0        0       1          0   \n",
       "\n",
       "   practical  athletics  badminton  soccer  rural  urban  label  \n",
       "0          1          1          0       0      0      1      0  \n",
       "1          0          0          0       1      0      1      0  \n",
       "2          0          0          1       0      0      1      1  \n",
       "3          1          0          0       1      0      1      1  \n",
       "4          1          0          1       0      0      1      1  "
      ]
     },
     "execution_count": 10,
     "metadata": {},
     "output_type": "execute_result"
    }
   ],
   "source": [
    "test_df = []\n",
    "test_df = df[['age','earnings']]\n",
    "life_sty = pd.get_dummies(df.lifestyle)\n",
    "fam_stat = pd.get_dummies(df['family status'])\n",
    "car_     = pd.get_dummies(df.car)\n",
    "sports_  = pd.get_dummies(df.sports)\n",
    "liv_area = pd.get_dummies(df['living area'])\n",
    "\n",
    "test_df = pd.concat([test_df, life_sty, fam_stat, car_, sports_, liv_area], axis = 1)\n",
    "test_df['label'] = df['label'].apply(lambda x: 1 if (x == 'response')  else 0)\n",
    "test_df.head()"
   ]
  },
  {
   "cell_type": "markdown",
   "metadata": {},
   "source": [
    "### This is a classification problem\n",
    "1. First is preprocessing the data (next two cells)\n",
    "2. Then four models of classification will be tested \n",
    "    * K-nearest neighbors\n",
    "    * Logistic regression\n",
    "    * Decision tree\n",
    "    * Support-vector machine\n",
    "3. Parameters and conditions for each model will be tuned to achieve best performance\n",
    "4. Accuracy score will be used for comparing the models to choose the best at the end\n"
   ]
  },
  {
   "cell_type": "code",
   "execution_count": 11,
   "metadata": {},
   "outputs": [],
   "source": [
    "#All columns without 'label' will be the features\n",
    "x = test_df.iloc[:,:-1].values \n",
    "y = test_df['label'].values"
   ]
  },
  {
   "cell_type": "code",
   "execution_count": 12,
   "metadata": {},
   "outputs": [],
   "source": [
    "#All features will be standardized, this gives the data zero mean and unit variance\n",
    "X = preprocessing.StandardScaler().fit(x).transform(x.astype(float))"
   ]
  },
  {
   "cell_type": "markdown",
   "metadata": {},
   "source": [
    "## II- Model Development & Evaluation"
   ]
  },
  {
   "cell_type": "markdown",
   "metadata": {},
   "source": [
    "### Model 1. K-nearest neighbors\n",
    "The following function is created to identify best number of neighbors to be set as 'K', and determine best ratio of data samples to serve as test sample for the model."
   ]
  },
  {
   "cell_type": "code",
   "execution_count": 19,
   "metadata": {},
   "outputs": [],
   "source": [
    "def Ks_and_test_size(Ks,test_size):\n",
    "    '''\n",
    "    This function takes number of K and test size as inputs and returns a plot wiht\n",
    "    accuracy metric for each K value.\n",
    "    '''\n",
    "    # data will be split to training and testing sets\n",
    "    X_train, X_test, y_train, y_test = train_test_split( X, y, test_size=test_size, random_state=4)\n",
    "    Ks = Ks\n",
    "    mean_acc = np.zeros((Ks-1))\n",
    "    std_acc = np.zeros((Ks-1))\n",
    "    \n",
    "    # accuracy count will be calculated for each K value\n",
    "    for n in range(1,Ks):\n",
    "        # K-nearest neighbor object (model)\n",
    "        neigh = KNeighborsClassifier(n_neighbors = n).fit(X_train,y_train)\n",
    "        yhat=neigh.predict(X_test)\n",
    "        mean_acc[n-1] = metrics.accuracy_score(y_test, yhat)\n",
    "        std_acc[n-1]=np.std(yhat==y_test)/np.sqrt(yhat.shape[0])\n",
    "    \n",
    "    # Ploting curve with mean accuracy value for each K surrounded with 1 \n",
    "    # and 3 standard deviation \n",
    "    plt.plot(range(1,Ks),mean_acc,'g')\n",
    "    plt.fill_between(range(1,Ks),mean_acc - 1 * std_acc,mean_acc + 1 * std_acc, alpha=0.10)\n",
    "    plt.fill_between(range(1,Ks),mean_acc - 3 * std_acc,mean_acc + 3 * std_acc, alpha=0.10,color=\"green\")\n",
    "    plt.legend(('Accuracy ', '+/- 1xstd','+/- 3xstd'))\n",
    "    plt.ylabel('Accuracy ')\n",
    "    plt.xlabel('Number of Neighbors (K)')\n",
    "    plt.tight_layout()\n",
    "    plt.show()\n",
    "    print('The max accuracy score is ', max(mean_acc), ', corresponding to K = ', np.argmax(mean_acc)+1)"
   ]
  },
  {
   "cell_type": "code",
   "execution_count": 20,
   "metadata": {},
   "outputs": [
    {
     "data": {
      "image/png": "[encoded data removed]",
      "text/plain": [
       "<Figure size 432x288 with 1 Axes>"
      ]
     },
     "metadata": {
      "needs_background": "light"
     },
     "output_type": "display_data"
    },
    {
     "name": "stdout",
     "output_type": "stream",
     "text": [
      "The max accuracy score is  0.85 , corresponding to K =  5\n"
     ]
    }
   ],
   "source": [
    "Ks_and_test_size(20,0.01)"
   ]
  },
  {
   "cell_type": "code",
   "execution_count": 21,
   "metadata": {},
   "outputs": [
    {
     "data": {
      "image/png": "[encoded data removed]",
      "text/plain": [
       "<Figure size 432x288 with 1 Axes>"
      ]
     },
     "metadata": {
      "needs_background": "light"
     },
     "output_type": "display_data"
    },
    {
     "name": "stdout",
     "output_type": "stream",
     "text": [
      "The max accuracy score is  0.86 , corresponding to K =  3\n"
     ]
    }
   ],
   "source": [
    "Ks_and_test_size(20,0.05)"
   ]
  },
  {
   "cell_type": "code",
   "execution_count": 22,
   "metadata": {},
   "outputs": [
    {
     "data": {
      "image/png": "[encoded data removed]",
      "text/plain": [
       "<Figure size 432x288 with 1 Axes>"
      ]
     },
     "metadata": {
      "needs_background": "light"
     },
     "output_type": "display_data"
    },
    {
     "name": "stdout",
     "output_type": "stream",
     "text": [
      "The max accuracy score is  0.827 , corresponding to K =  9\n"
     ]
    }
   ],
   "source": [
    "Ks_and_test_size(20,0.1)"
   ]
  },
  {
   "cell_type": "code",
   "execution_count": 23,
   "metadata": {},
   "outputs": [
    {
     "data": {
      "image/png": "[encoded data removed]",
      "text/plain": [
       "<Figure size 432x288 with 1 Axes>"
      ]
     },
     "metadata": {
      "needs_background": "light"
     },
     "output_type": "display_data"
    },
    {
     "name": "stdout",
     "output_type": "stream",
     "text": [
      "The max accuracy score is  0.8245 , corresponding to K =  3\n"
     ]
    }
   ],
   "source": [
    "Ks_and_test_size(20,0.2)"
   ]
  },
  {
   "cell_type": "code",
   "execution_count": 24,
   "metadata": {},
   "outputs": [
    {
     "data": {
      "image/png": "[encoded data removed]",
      "text/plain": [
       "<Figure size 432x288 with 1 Axes>"
      ]
     },
     "metadata": {
      "needs_background": "light"
     },
     "output_type": "display_data"
    },
    {
     "name": "stdout",
     "output_type": "stream",
     "text": [
      "The max accuracy score is  0.8206666666666667 , corresponding to K =  7\n"
     ]
    }
   ],
   "source": [
    "Ks_and_test_size(20,0.3)"
   ]
  },
  {
   "cell_type": "code",
   "execution_count": 25,
   "metadata": {},
   "outputs": [
    {
     "data": {
      "image/png": "[encoded data removed]",
      "text/plain": [
       "<Figure size 432x288 with 1 Axes>"
      ]
     },
     "metadata": {
      "needs_background": "light"
     },
     "output_type": "display_data"
    },
    {
     "name": "stdout",
     "output_type": "stream",
     "text": [
      "The max accuracy score is  0.80425 , corresponding to K =  5\n"
     ]
    }
   ],
   "source": [
    "Ks_and_test_size(20,0.4)"
   ]
  },
  {
   "cell_type": "markdown",
   "metadata": {},
   "source": [
    "### Model 2. Logistic regression\n",
    "The following function is created to identify best number for C (antiregularization), solver, and determine best ratio of data samples to serve as test sample for the model."
   ]
  },
  {
   "cell_type": "code",
   "execution_count": 26,
   "metadata": {},
   "outputs": [],
   "source": [
    "def LR_test_size(C , solver ,min_test_size, max_test_size):\n",
    "    '''\n",
    "    This function takes number of C, solver, min and max test size as inputs and returns \n",
    "    a plot wiht accuracy metric for each set of inputs.\n",
    "    '''\n",
    "    max_= max_test_size\n",
    "    min_= min_test_size\n",
    "    mean_acc = np.zeros((  round((max_-min_)/0.05)   ))\n",
    "    std_acc  = np.zeros((  round((max_-min_)/0.05)   ))\n",
    "    \n",
    "    n = min_\n",
    "    ind = 0\n",
    "    while True: \n",
    "        if ind == len(mean_acc):\n",
    "            break\n",
    "        # data will be split to training and testing sets\n",
    "        X_train, X_test, y_train, y_test = train_test_split( X, y, test_size = n, random_state=4)\n",
    "        #logistic regression object (model)\n",
    "        LR   = LogisticRegression(C = C, solver = solver).fit(X_train,y_train)\n",
    "        yhat = LR.predict(X_test)\n",
    "        # accuracy count will be calculated for each testing set\n",
    "        mean_acc[ind] = metrics.accuracy_score(y_test, yhat)\n",
    "        std_acc[ind]  = np.std(yhat==y_test)/np.sqrt(yhat.shape[0])\n",
    "        ind = ind + 1\n",
    "        n = n + 0.05\n",
    "        \n",
    "    # Ploting curve with mean accuracy value for each set of inputs surrounded with 1 \n",
    "    # and 3 standard deviation \n",
    "    mean_acc = np.array(mean_acc, dtype=np.float)\n",
    "    std_acc = np.array(std_acc, dtype=np.float)\n",
    "    plt.plot(np.arange(min_, max_, 0.05),mean_acc,'g')   \n",
    "    plt.fill_between(np.arange(min_, max_, 0.05),mean_acc - 1 * std_acc,mean_acc + 1 * std_acc, alpha=0.10)\n",
    "    plt.fill_between(np.arange(min_, max_, 0.05),mean_acc - 3 * std_acc,mean_acc + 3 * std_acc, alpha=0.10,color=\"green\")\n",
    "    plt.legend(('Accuracy ', '+/- 1xstd','+/- 3xstd'))\n",
    "    plt.ylabel('Accuracy ')\n",
    "    plt.xlabel('Ratio of test sample')\n",
    "    plt.tight_layout()\n",
    "    plt.show()\n",
    "    print('The max accuracy score is ', max(mean_acc))"
   ]
  },
  {
   "cell_type": "code",
   "execution_count": 32,
   "metadata": {
    "scrolled": false
   },
   "outputs": [
    {
     "name": "stderr",
     "output_type": "stream",
     "text": [
      "/snap/jupyter/6/lib/python3.7/site-packages/ipykernel_launcher.py:29: DeprecationWarning: `np.float` is a deprecated alias for the builtin `float`. To silence this warning, use `float` by itself. Doing this will not modify any behavior and is safe. If you specifically wanted the numpy scalar type, use `np.float64` here.\n",
      "Deprecated in NumPy 1.20; for more details and guidance: https://numpy.org/devdocs/release/1.20.0-notes.html#deprecations\n",
      "/snap/jupyter/6/lib/python3.7/site-packages/ipykernel_launcher.py:30: DeprecationWarning: `np.float` is a deprecated alias for the builtin `float`. To silence this warning, use `float` by itself. Doing this will not modify any behavior and is safe. If you specifically wanted the numpy scalar type, use `np.float64` here.\n",
      "Deprecated in NumPy 1.20; for more details and guidance: https://numpy.org/devdocs/release/1.20.0-notes.html#deprecations\n"
     ]
    },
    {
     "data": {
      "image/png": "[encoded data removed]",
      "text/plain": [
       "<Figure size 432x288 with 1 Axes>"
      ]
     },
     "metadata": {
      "needs_background": "light"
     },
     "output_type": "display_data"
    },
    {
     "name": "stdout",
     "output_type": "stream",
     "text": [
      "The max accuracy score is  0.8233333333333334\n"
     ]
    }
   ],
   "source": [
    "#‘liblinear’, ‘newton-cg’, ‘sag’, ‘saga’, ‘lbfgs’ \n",
    "LR_test_size(0.01, 'lbfgs', 0.01, 0.5)"
   ]
  },
  {
   "cell_type": "markdown",
   "metadata": {},
   "source": [
    "### Model 3. Decision tree\n",
    "* The following function is created to identify best value for the maximum depth of the tree.\n",
    "* Afterwards comes closely similar function for determining best ratio of data samples to serve as test sample for the model."
   ]
  },
  {
   "cell_type": "code",
   "execution_count": 13,
   "metadata": {},
   "outputs": [],
   "source": [
    "def tree_depth(max_depth,test_size):\n",
    "    '''\n",
    "    This function takes max depth, test size as inputs and returns \n",
    "    a plot wiht accuracy metric for each depth.\n",
    "    '''\n",
    "    # data will be split to training and testing sets\n",
    "    X_train, X_test, y_train, y_test = train_test_split( X, y, test_size=test_size, random_state=4)\n",
    "    depth = max_depth\n",
    "    mean_acc = np.zeros((depth-1))\n",
    "    std_acc = np.zeros((depth-1))\n",
    "\n",
    "    for n in range(1,depth):\n",
    "        #decision tree object (model)\n",
    "        decTree = DecisionTreeClassifier(criterion=\"entropy\", max_depth = depth,random_state=4).fit(X_train,y_train)\n",
    "        predTree  = decTree.predict(X_test)\n",
    "        # accuracy count will be calculated for each depth\n",
    "        mean_acc[n-1] = metrics.accuracy_score(y_test, predTree)\n",
    "        std_acc[n-1]=np.std(predTree==y_test)/np.sqrt(predTree.shape[0])\n",
    "    \n",
    "    # Ploting curve with mean accuracy value for each depth, surrounded with 1 \n",
    "    # and 3 standard deviation \n",
    "    plt.plot(range(1,depth),mean_acc,'g')\n",
    "    plt.fill_between(range(1,depth),mean_acc - 1 * std_acc,mean_acc + 1 * std_acc, alpha=0.10)\n",
    "    plt.fill_between(range(1,depth),mean_acc - 3 * std_acc,mean_acc + 3 * std_acc, alpha=0.10,color=\"green\")\n",
    "    plt.legend(('Accuracy ', '+/- 1xstd','+/- 3xstd'))\n",
    "    plt.ylabel('Accuracy ')\n",
    "    plt.xlabel('Max Depth')\n",
    "    plt.tight_layout()\n",
    "    plt.show()\n",
    "    print('The max accuracy score is ', max(mean_acc), ', corresponding to depth = ', np.argmax(mean_acc)+1)"
   ]
  },
  {
   "cell_type": "code",
   "execution_count": 68,
   "metadata": {},
   "outputs": [
    {
     "data": {
      "image/png": "[encoded data removed]",
      "text/plain": [
       "<Figure size 432x288 with 1 Axes>"
      ]
     },
     "metadata": {
      "needs_background": "light"
     },
     "output_type": "display_data"
    },
    {
     "name": "stdout",
     "output_type": "stream",
     "text": [
      "The max accuracy score is  0.834 , corresponding to depth =  1\n"
     ]
    }
   ],
   "source": [
    "tree_depth(30,0.2)"
   ]
  },
  {
   "cell_type": "code",
   "execution_count": 14,
   "metadata": {},
   "outputs": [],
   "source": [
    "def tree_test_size(max_depth,min_test_size, max_test_size):\n",
    "    '''\n",
    "    This function takes max depth, min and max test size as inputs and returns \n",
    "    a plot wiht accuracy metric for each test size.\n",
    "    '''\n",
    "    max_= max_test_size\n",
    "    min_= min_test_size\n",
    "    mean_acc = np.zeros((  round((max_-min_)/0.05)   ))\n",
    "    std_acc  = np.zeros((  round((max_-min_)/0.05)   ))\n",
    "    n = min_\n",
    "    ind = 0\n",
    "    while True: \n",
    "        if ind == len(mean_acc):\n",
    "            break\n",
    "        # data will be split to training and testing sets\n",
    "        X_train, X_test, y_train, y_test = train_test_split( X, y, test_size = n, random_state=4)\n",
    "        #decision tree object (model)\n",
    "        decTree   = DecisionTreeClassifier(criterion=\"entropy\", max_depth = max_depth,random_state=4).fit(X_train,y_train)\n",
    "        predTree  = decTree.predict(X_test)\n",
    "        # accuracy count will be calculated for each test set \n",
    "        mean_acc[ind] = metrics.accuracy_score(y_test, predTree)\n",
    "        std_acc[ind]  = np.std(predTree==y_test)/np.sqrt(predTree.shape[0])\n",
    "        ind = ind + 1\n",
    "        n = n + 0.05\n",
    "        \n",
    "    # Ploting curve with mean accuracy value for each test size, surrounded with 1 \n",
    "    # and 3 standard deviation \n",
    "    mean_acc = np.array(mean_acc, dtype=np.float)\n",
    "    std_acc = np.array(std_acc, dtype=np.float)\n",
    "    plt.plot(np.arange(min_, max_, 0.05),mean_acc,'g')   \n",
    "    plt.fill_between(np.arange(min_, max_, 0.05),mean_acc - 1 * std_acc,mean_acc + 1 * std_acc, alpha=0.10)\n",
    "    plt.fill_between(np.arange(min_, max_, 0.05),mean_acc - 3 * std_acc,mean_acc + 3 * std_acc, alpha=0.10,color=\"green\")\n",
    "    plt.legend(('Accuracy ', '+/- 1xstd','+/- 3xstd'))\n",
    "    plt.ylabel('Accuracy ')\n",
    "    plt.xlabel('Ratio of test sample')\n",
    "    plt.tight_layout()\n",
    "    plt.show()\n",
    "    print('The max accuracy score is ', max(mean_acc))\n",
    "    print(mean_acc)"
   ]
  },
  {
   "cell_type": "code",
   "execution_count": 15,
   "metadata": {},
   "outputs": [
    {
     "name": "stderr",
     "output_type": "stream",
     "text": [
      "/snap/jupyter/6/lib/python3.7/site-packages/ipykernel_launcher.py:28: DeprecationWarning: `np.float` is a deprecated alias for the builtin `float`. To silence this warning, use `float` by itself. Doing this will not modify any behavior and is safe. If you specifically wanted the numpy scalar type, use `np.float64` here.\n",
      "Deprecated in NumPy 1.20; for more details and guidance: https://numpy.org/devdocs/release/1.20.0-notes.html#deprecations\n",
      "/snap/jupyter/6/lib/python3.7/site-packages/ipykernel_launcher.py:29: DeprecationWarning: `np.float` is a deprecated alias for the builtin `float`. To silence this warning, use `float` by itself. Doing this will not modify any behavior and is safe. If you specifically wanted the numpy scalar type, use `np.float64` here.\n",
      "Deprecated in NumPy 1.20; for more details and guidance: https://numpy.org/devdocs/release/1.20.0-notes.html#deprecations\n"
     ]
    },
    {
     "data": {
      "image/png": "[encoded data removed]",
      "text/plain": [
       "<Figure size 432x288 with 1 Axes>"
      ]
     },
     "metadata": {
      "needs_background": "light"
     },
     "output_type": "display_data"
    },
    {
     "name": "stdout",
     "output_type": "stream",
     "text": [
      "The max accuracy score is  0.9000624609618988\n",
      "[0.88       0.89       0.8982743  0.90006246 0.89380952 0.89307692\n",
      " 0.89290323 0.89194444 0.88853659 0.88782609]\n"
     ]
    }
   ],
   "source": [
    "tree_test_size(2,0.01, 0.5)"
   ]
  },
  {
   "cell_type": "markdown",
   "metadata": {},
   "source": [
    "### Model 4. Support-vector machine\n",
    "The following function is created to identify best kernel type, and determine best ratio of data samples to serve as test sample for the model."
   ]
  },
  {
   "cell_type": "code",
   "execution_count": 78,
   "metadata": {},
   "outputs": [],
   "source": [
    "def svm_kernel_test_size(kernel, min_test_size, max_test_size):\n",
    "    '''\n",
    "    This function takes kernel type, min and max test size as inputs and returns \n",
    "    a plot wiht accuracy metric for testing size.\n",
    "    '''\n",
    "    max_= max_test_size\n",
    "    min_= min_test_size\n",
    "    mean_acc = np.zeros((  round((max_-min_)/0.05)   ))\n",
    "    std_acc  = np.zeros((  round((max_-min_)/0.05)   ))\n",
    "    n = min_\n",
    "    ind = 0\n",
    "    while True: \n",
    "        if ind == len(mean_acc):\n",
    "            break\n",
    "        # data will be split to training and testing sets\n",
    "        X_train, X_test, y_train, y_test = train_test_split( X, y, test_size = n, random_state=4)\n",
    "        #support-vector machine (model)\n",
    "        svm_model = svm.SVC(kernel=kernel).fit(X_train,y_train)\n",
    "        yhat_svm = svm_model.predict(X_test)\n",
    "        # accuracy count will be calculated for each testing size \n",
    "        mean_acc[ind] = metrics.accuracy_score(y_test, yhat_svm)\n",
    "        std_acc[ind]  = np.std(yhat_svm==y_test)/np.sqrt(yhat_svm.shape[0])\n",
    "        ind = ind + 1\n",
    "        n = n + 0.05\n",
    "        \n",
    "    # Ploting curve with mean accuracy value for each test size, surrounded with 1 \n",
    "    # and 3 standard deviation         \n",
    "    mean_acc = np.array(mean_acc, dtype=np.float)\n",
    "    std_acc = np.array(std_acc, dtype=np.float)\n",
    "    plt.plot(np.arange(min_, max_, 0.05),mean_acc,'g')   \n",
    "    plt.fill_between(np.arange(min_, max_, 0.05),mean_acc - 1 * std_acc,mean_acc + 1 * std_acc, alpha=0.10)\n",
    "    plt.fill_between(np.arange(min_, max_, 0.05),mean_acc - 3 * std_acc,mean_acc + 3 * std_acc, alpha=0.10,color=\"green\")\n",
    "    plt.legend(('Accuracy ', '+/- 1xstd','+/- 3xstd'))\n",
    "    plt.ylabel('Accuracy ')\n",
    "    plt.xlabel('Ratio of test sample')\n",
    "    plt.tight_layout()\n",
    "    plt.show()\n",
    "    print('The max accuracy score is ', max(mean_acc))"
   ]
  },
  {
   "cell_type": "code",
   "execution_count": 85,
   "metadata": {},
   "outputs": [
    {
     "name": "stderr",
     "output_type": "stream",
     "text": [
      "/snap/jupyter/6/lib/python3.7/site-packages/ipykernel_launcher.py:28: DeprecationWarning: `np.float` is a deprecated alias for the builtin `float`. To silence this warning, use `float` by itself. Doing this will not modify any behavior and is safe. If you specifically wanted the numpy scalar type, use `np.float64` here.\n",
      "Deprecated in NumPy 1.20; for more details and guidance: https://numpy.org/devdocs/release/1.20.0-notes.html#deprecations\n",
      "/snap/jupyter/6/lib/python3.7/site-packages/ipykernel_launcher.py:29: DeprecationWarning: `np.float` is a deprecated alias for the builtin `float`. To silence this warning, use `float` by itself. Doing this will not modify any behavior and is safe. If you specifically wanted the numpy scalar type, use `np.float64` here.\n",
      "Deprecated in NumPy 1.20; for more details and guidance: https://numpy.org/devdocs/release/1.20.0-notes.html#deprecations\n"
     ]
    },
    {
     "data": {
      "image/png": "[encoded data removed]",
      "text/plain": [
       "<Figure size 432x288 with 1 Axes>"
      ]
     },
     "metadata": {
      "needs_background": "light"
     },
     "output_type": "display_data"
    },
    {
     "name": "stdout",
     "output_type": "stream",
     "text": [
      "The max accuracy score is  0.86\n"
     ]
    }
   ],
   "source": [
    "#‘linear’, ‘poly’, ‘rbf’, ‘sigmoid’\n",
    "svm_kernel_test_size('rbf', 0.01, 0.5)"
   ]
  },
  {
   "cell_type": "markdown",
   "metadata": {},
   "source": [
    "## III- Model Application and Presentation"
   ]
  },
  {
   "cell_type": "markdown",
   "metadata": {},
   "source": [
    "1- The model with highest accuracy score (**0.898**) is the **decision tree** will be presented and a confusion matrix will be created.\n",
    "\n",
    "2- **Logistic regression** will be also used for determining the customer with highest probability to respond, which will be considered as the ideal customer."
   ]
  },
  {
   "cell_type": "markdown",
   "metadata": {},
   "source": [
    "**1-** Training a **decision tree** model with optimal parameters, determined already above."
   ]
  },
  {
   "cell_type": "code",
   "execution_count": 20,
   "metadata": {},
   "outputs": [],
   "source": [
    "X_train, X_test, y_train, y_test = train_test_split( X, y, test_size = 0.15, random_state=4)\n",
    "#decision tree object (model)\n",
    "decTree   = DecisionTreeClassifier(criterion=\"entropy\", max_depth = 2,random_state=4).fit(X_train,y_train)\n",
    "predTree  = decTree.predict(X_test)"
   ]
  },
  {
   "cell_type": "markdown",
   "metadata": {},
   "source": [
    "The following function is used to plot the confusion matrix"
   ]
  },
  {
   "cell_type": "code",
   "execution_count": 21,
   "metadata": {},
   "outputs": [],
   "source": [
    "def plot_confusion_matrix(cm, classes,\n",
    "                          normalize=False,\n",
    "                          title='Confusion matrix',\n",
    "                          cmap=plt.cm.Blues):\n",
    "    \"\"\"\n",
    "    This function prints and plots the confusion matrix.\n",
    "    Normalization can be applied by setting `normalize=True`.\n",
    "    \"\"\"\n",
    "    if normalize:\n",
    "        cm = cm.astype('float') / cm.sum(axis=1)[:, np.newaxis]\n",
    "        print(\"Normalized confusion matrix\")\n",
    "    else:\n",
    "        print('Confusion matrix, without normalization')\n",
    "\n",
    "    print(cm)\n",
    "\n",
    "    plt.imshow(cm, interpolation='nearest', cmap=cmap)\n",
    "    plt.title(title)\n",
    "    plt.colorbar()\n",
    "    tick_marks = np.arange(len(classes))\n",
    "    plt.xticks(tick_marks, classes, rotation=45)\n",
    "    plt.yticks(tick_marks, classes)\n",
    "\n",
    "    fmt = '.2f' if normalize else 'd'\n",
    "    thresh = cm.max() / 2.\n",
    "    for i, j in itertools.product(range(cm.shape[0]), range(cm.shape[1])):\n",
    "        plt.text(j, i, format(cm[i, j], fmt),\n",
    "                 horizontalalignment=\"center\",\n",
    "                 color=\"white\" if cm[i, j] > thresh else \"black\")\n",
    "\n",
    "    plt.tight_layout()\n",
    "    plt.ylabel('True label')\n",
    "    plt.xlabel('Predicted label')"
   ]
  },
  {
   "cell_type": "code",
   "execution_count": 22,
   "metadata": {},
   "outputs": [
    {
     "name": "stdout",
     "output_type": "stream",
     "text": [
      "Confusion matrix, without normalization\n",
      "[[401  94]\n",
      " [ 57 948]]\n"
     ]
    },
    {
     "data": {
      "image/png": "[encoded data removed]",
      "text/plain": [
       "<Figure size 432x288 with 2 Axes>"
      ]
     },
     "metadata": {
      "needs_background": "light"
     },
     "output_type": "display_data"
    }
   ],
   "source": [
    "# Compute confusion matrix\n",
    "cnf_matrix = confusion_matrix(y_test, predTree, labels=[1,0])\n",
    "np.set_printoptions(precision=2)\n",
    "\n",
    "\n",
    "# Plot non-normalized confusion matrix\n",
    "plt.figure()\n",
    "plot_confusion_matrix(cnf_matrix, classes=['response=1','no response=0'],normalize= False,  title='Confusion matrix')"
   ]
  },
  {
   "cell_type": "markdown",
   "metadata": {},
   "source": [
    "**2-** Training a **Logistic regression** model to determine the customer with highest probability of responding."
   ]
  },
  {
   "cell_type": "code",
   "execution_count": 177,
   "metadata": {},
   "outputs": [],
   "source": [
    "X_train, X_test, y_train, y_test = train_test_split( X, y, test_size = 0.05, random_state=4)\n",
    "LR   = LogisticRegression(C = 0.01, solver = 'lbfgs').fit(X_train,y_train)"
   ]
  },
  {
   "cell_type": "code",
   "execution_count": 174,
   "metadata": {},
   "outputs": [
    {
     "data": {
      "text/html": [
       "<div>\n",
       "<style scoped>\n",
       "    .dataframe tbody tr th:only-of-type {\n",
       "        vertical-align: middle;\n",
       "    }\n",
       "\n",
       "    .dataframe tbody tr th {\n",
       "        vertical-align: top;\n",
       "    }\n",
       "\n",
       "    .dataframe thead th {\n",
       "        text-align: right;\n",
       "    }\n",
       "</style>\n",
       "<table border=\"1\" class=\"dataframe\">\n",
       "  <thead>\n",
       "    <tr style=\"text-align: right;\">\n",
       "      <th></th>\n",
       "      <th>name</th>\n",
       "      <th>age</th>\n",
       "      <th>lifestyle</th>\n",
       "      <th>zip code</th>\n",
       "      <th>family status</th>\n",
       "      <th>car</th>\n",
       "      <th>sports</th>\n",
       "      <th>earnings</th>\n",
       "      <th>living area</th>\n",
       "      <th>proba</th>\n",
       "    </tr>\n",
       "  </thead>\n",
       "  <tbody>\n",
       "    <tr>\n",
       "      <th>5930</th>\n",
       "      <td>NLRP5nIR</td>\n",
       "      <td>69.0</td>\n",
       "      <td>cozily</td>\n",
       "      <td>33619.0</td>\n",
       "      <td>married</td>\n",
       "      <td>practical</td>\n",
       "      <td>NaN</td>\n",
       "      <td>149239.0</td>\n",
       "      <td>urban</td>\n",
       "      <td>0.872824</td>\n",
       "    </tr>\n",
       "  </tbody>\n",
       "</table>\n",
       "</div>"
      ],
      "text/plain": [
       "          name   age lifestyle  zip code family status        car sports  \\\n",
       "5930  NLRP5nIR  69.0    cozily   33619.0       married  practical    NaN   \n",
       "\n",
       "      earnings living area     proba  \n",
       "5930  149239.0       urban  0.872824  "
      ]
     },
     "execution_count": 174,
     "metadata": {},
     "output_type": "execute_result"
    }
   ],
   "source": [
    "# trial_df is equivalent to original dataframe but with probabilities of responding\n",
    "trial_df=df[['name', 'age', 'lifestyle', 'zip code', 'family status', 'car','sports', 'earnings', 'living area']]\n",
    "trial_df['proba']= LR.predict_proba(X)[:,1]\n",
    "ideal = trial_df[trial_df[\"proba\"] == max(trial_df[\"proba\"])]\n",
    "ideal.head()"
   ]
  },
  {
   "cell_type": "markdown",
   "metadata": {},
   "source": [
    "**An overview of top 10 customers**"
   ]
  },
  {
   "cell_type": "code",
   "execution_count": 180,
   "metadata": {},
   "outputs": [
    {
     "data": {
      "text/html": [
       "<div>\n",
       "<style scoped>\n",
       "    .dataframe tbody tr th:only-of-type {\n",
       "        vertical-align: middle;\n",
       "    }\n",
       "\n",
       "    .dataframe tbody tr th {\n",
       "        vertical-align: top;\n",
       "    }\n",
       "\n",
       "    .dataframe thead th {\n",
       "        text-align: right;\n",
       "    }\n",
       "</style>\n",
       "<table border=\"1\" class=\"dataframe\">\n",
       "  <thead>\n",
       "    <tr style=\"text-align: right;\">\n",
       "      <th></th>\n",
       "      <th>name</th>\n",
       "      <th>age</th>\n",
       "      <th>lifestyle</th>\n",
       "      <th>zip code</th>\n",
       "      <th>family status</th>\n",
       "      <th>car</th>\n",
       "      <th>sports</th>\n",
       "      <th>earnings</th>\n",
       "      <th>living area</th>\n",
       "      <th>proba</th>\n",
       "    </tr>\n",
       "  </thead>\n",
       "  <tbody>\n",
       "    <tr>\n",
       "      <th>5930</th>\n",
       "      <td>NLRP5nIR</td>\n",
       "      <td>69.0</td>\n",
       "      <td>cozily</td>\n",
       "      <td>33619.0</td>\n",
       "      <td>married</td>\n",
       "      <td>practical</td>\n",
       "      <td>NaN</td>\n",
       "      <td>149239.0</td>\n",
       "      <td>urban</td>\n",
       "      <td>0.872824</td>\n",
       "    </tr>\n",
       "    <tr>\n",
       "      <th>8870</th>\n",
       "      <td>8IZX4Ibl</td>\n",
       "      <td>69.0</td>\n",
       "      <td>active</td>\n",
       "      <td>33276.0</td>\n",
       "      <td>single</td>\n",
       "      <td>practical</td>\n",
       "      <td>NaN</td>\n",
       "      <td>145998.0</td>\n",
       "      <td>rural</td>\n",
       "      <td>0.869986</td>\n",
       "    </tr>\n",
       "    <tr>\n",
       "      <th>4594</th>\n",
       "      <td>34UDY7tV</td>\n",
       "      <td>69.0</td>\n",
       "      <td>healthy</td>\n",
       "      <td>41310.0</td>\n",
       "      <td>single</td>\n",
       "      <td>expensive</td>\n",
       "      <td>soccer</td>\n",
       "      <td>149630.0</td>\n",
       "      <td>urban</td>\n",
       "      <td>0.868554</td>\n",
       "    </tr>\n",
       "    <tr>\n",
       "      <th>5710</th>\n",
       "      <td>IE4Gudzt</td>\n",
       "      <td>69.0</td>\n",
       "      <td>active</td>\n",
       "      <td>44027.0</td>\n",
       "      <td>married</td>\n",
       "      <td>practical</td>\n",
       "      <td>NaN</td>\n",
       "      <td>149522.0</td>\n",
       "      <td>urban</td>\n",
       "      <td>0.865897</td>\n",
       "    </tr>\n",
       "    <tr>\n",
       "      <th>4977</th>\n",
       "      <td>cn3UdDWz</td>\n",
       "      <td>69.0</td>\n",
       "      <td>healthy</td>\n",
       "      <td>60469.0</td>\n",
       "      <td>married</td>\n",
       "      <td>expensive</td>\n",
       "      <td>NaN</td>\n",
       "      <td>139824.0</td>\n",
       "      <td>urban</td>\n",
       "      <td>0.864299</td>\n",
       "    </tr>\n",
       "    <tr>\n",
       "      <th>5591</th>\n",
       "      <td>Hw5CYSS4</td>\n",
       "      <td>69.0</td>\n",
       "      <td>cozily</td>\n",
       "      <td>28133.0</td>\n",
       "      <td>single</td>\n",
       "      <td>expensive</td>\n",
       "      <td>athletics</td>\n",
       "      <td>146890.0</td>\n",
       "      <td>urban</td>\n",
       "      <td>0.864078</td>\n",
       "    </tr>\n",
       "    <tr>\n",
       "      <th>9999</th>\n",
       "      <td>eBED7EpQ</td>\n",
       "      <td>69.0</td>\n",
       "      <td>healthy</td>\n",
       "      <td>90816.0</td>\n",
       "      <td>single</td>\n",
       "      <td>practical</td>\n",
       "      <td>athletics</td>\n",
       "      <td>149683.0</td>\n",
       "      <td>rural</td>\n",
       "      <td>0.864054</td>\n",
       "    </tr>\n",
       "    <tr>\n",
       "      <th>1437</th>\n",
       "      <td>kC6415B9</td>\n",
       "      <td>69.0</td>\n",
       "      <td>cozily</td>\n",
       "      <td>54912.0</td>\n",
       "      <td>single</td>\n",
       "      <td>practical</td>\n",
       "      <td>athletics</td>\n",
       "      <td>149575.0</td>\n",
       "      <td>urban</td>\n",
       "      <td>0.862858</td>\n",
       "    </tr>\n",
       "    <tr>\n",
       "      <th>4722</th>\n",
       "      <td>rpBV49cc</td>\n",
       "      <td>69.0</td>\n",
       "      <td>healthy</td>\n",
       "      <td>25576.0</td>\n",
       "      <td>married</td>\n",
       "      <td>practical</td>\n",
       "      <td>NaN</td>\n",
       "      <td>139759.0</td>\n",
       "      <td>rural</td>\n",
       "      <td>0.861594</td>\n",
       "    </tr>\n",
       "    <tr>\n",
       "      <th>5728</th>\n",
       "      <td>RbTlN9wy</td>\n",
       "      <td>69.0</td>\n",
       "      <td>active</td>\n",
       "      <td>63838.0</td>\n",
       "      <td>single</td>\n",
       "      <td>expensive</td>\n",
       "      <td>NaN</td>\n",
       "      <td>135039.0</td>\n",
       "      <td>rural</td>\n",
       "      <td>0.860355</td>\n",
       "    </tr>\n",
       "  </tbody>\n",
       "</table>\n",
       "</div>"
      ],
      "text/plain": [
       "          name   age lifestyle  zip code family status        car     sports  \\\n",
       "5930  NLRP5nIR  69.0    cozily   33619.0       married  practical        NaN   \n",
       "8870  8IZX4Ibl  69.0    active   33276.0        single  practical        NaN   \n",
       "4594  34UDY7tV  69.0   healthy   41310.0        single  expensive     soccer   \n",
       "5710  IE4Gudzt  69.0    active   44027.0       married  practical        NaN   \n",
       "4977  cn3UdDWz  69.0   healthy   60469.0       married  expensive        NaN   \n",
       "5591  Hw5CYSS4  69.0    cozily   28133.0        single  expensive  athletics   \n",
       "9999  eBED7EpQ  69.0   healthy   90816.0        single  practical  athletics   \n",
       "1437  kC6415B9  69.0    cozily   54912.0        single  practical  athletics   \n",
       "4722  rpBV49cc  69.0   healthy   25576.0       married  practical        NaN   \n",
       "5728  RbTlN9wy  69.0    active   63838.0        single  expensive        NaN   \n",
       "\n",
       "      earnings living area     proba  \n",
       "5930  149239.0       urban  0.872824  \n",
       "8870  145998.0       rural  0.869986  \n",
       "4594  149630.0       urban  0.868554  \n",
       "5710  149522.0       urban  0.865897  \n",
       "4977  139824.0       urban  0.864299  \n",
       "5591  146890.0       urban  0.864078  \n",
       "9999  149683.0       rural  0.864054  \n",
       "1437  149575.0       urban  0.862858  \n",
       "4722  139759.0       rural  0.861594  \n",
       "5728  135039.0       rural  0.860355  "
      ]
     },
     "execution_count": 180,
     "metadata": {},
     "output_type": "execute_result"
    }
   ],
   "source": [
    "trial_df.sort_values(by=['proba'], ascending=False).head(10)"
   ]
  }
 ],
 "metadata": {
  "kernelspec": {
   "display_name": "Python 3",
   "language": "python",
   "name": "python3"
  },
  "language_info": {
   "codemirror_mode": {
    "name": "ipython",
    "version": 3
   },
   "file_extension": ".py",
   "mimetype": "text/x-python",
   "name": "python",
   "nbconvert_exporter": "python",
   "pygments_lexer": "ipython3",
   "version": "3.7.3"
  }
 },
 "nbformat": 4,
 "nbformat_minor": 2
}
